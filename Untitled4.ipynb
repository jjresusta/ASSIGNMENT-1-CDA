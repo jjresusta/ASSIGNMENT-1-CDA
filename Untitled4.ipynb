{
  "nbformat": 4,
  "nbformat_minor": 0,
  "metadata": {
    "colab": {
      "name": "Untitled4.ipynb",
      "provenance": []
    },
    "kernelspec": {
      "name": "python3",
      "display_name": "Python 3"
    }
  },
  "cells": [
    {
      "cell_type": "markdown",
      "metadata": {
        "id": "71ehrAPt9SjD"
      },
      "source": [
        "ANSWERS CDA TEST\r\n",
        "1. A\r\n",
        "2. D\r\n",
        "3. B\r\n",
        "4. B\r\n",
        "5. A\r\n",
        "6. C\r\n",
        "7. C\r\n",
        "8. B\r\n",
        "9. A B E\r\n",
        "10. A\r\n",
        "11. A\r\n",
        "12. C D\r\n",
        "14. C\r\n",
        "15. D\r\n"
      ]
    },
    {
      "cell_type": "code",
      "metadata": {
        "id": "BMS5QRmm9RF8"
      },
      "source": [
        "\r\n"
      ],
      "execution_count": null,
      "outputs": []
    }
  ]
}