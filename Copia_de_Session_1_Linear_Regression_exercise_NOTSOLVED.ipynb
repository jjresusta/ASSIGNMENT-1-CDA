{
  "nbformat": 4,
  "nbformat_minor": 0,
  "metadata": {
    "kernelspec": {
      "display_name": "Python 3",
      "language": "python",
      "name": "python3"
    },
    "language_info": {
      "codemirror_mode": {
        "name": "ipython",
        "version": 3
      },
      "file_extension": ".py",
      "mimetype": "text/x-python",
      "name": "python",
      "nbconvert_exporter": "python",
      "pygments_lexer": "ipython3",
      "version": "3.7.4"
    },
    "colab": {
      "name": "Copia de Session_1_Linear_Regression_exercise_NOTSOLVED.ipynb",
      "provenance": [],
      "collapsed_sections": [],
      "toc_visible": true
    }
  },
  "cells": [
    {
      "cell_type": "markdown",
      "metadata": {
        "id": "5xcYL9oHL6O_"
      },
      "source": [
        "\n",
        "![BTS](https://github.com/vfp1/bts-dsf-2020/raw/main/Logo-BTS.jpg)\n",
        "\n",
        "# Session 1: Linear Regression Code Assignement\n",
        "\n",
        "### Victor F. Pajuelo Madrigal <victor.pajuelo@bts.tech> - Classical Data Analysis (2020-12-21)\n",
        "\n",
        "Open this notebook in Google Colaboratory: [![Open in Colab](https://colab.research.google.com/assets/colab-badge.svg)](https://colab.research.google.com/github/vfp1/bts-cda-2020/blob/main/Session_1/Session_1_Linear_Regression_exercise_NOTSOLVED.ipynb)\n"
      ]
    },
    {
      "cell_type": "markdown",
      "metadata": {
        "id": "HfWNbqPQNthK"
      },
      "source": [
        "An Ecommerce company sells clothing online but they also have in-store style and clothing advice sessions. Customers come in to the store, have sessions/meetings with a personal stylist, then they can go home and order either on a mobile app or website for the clothes they want. The company is trying to decide whether to focus their efforts on their mobile app experience or their website. They need our help to figure it out! \n",
        "\n",
        "**When working on the assignment there could be multiple models to explore data or iplement specific analysis. Choose that you retain more appropriate but always justify every choice you make (e.g., why you choose some variables), comment your code, describe the plots and results you obtain.**\n",
        "\n",
        "Feel free to add many cells as you need to write your code, comments, answers, etc.\n",
        "\n"
      ]
    },
    {
      "cell_type": "markdown",
      "metadata": {
        "id": "3tlKnwq_L6PF"
      },
      "source": [
        "### Import libraries"
      ]
    },
    {
      "cell_type": "code",
      "metadata": {
        "id": "9xKRDl41L6PG"
      },
      "source": [
        "import matplotlib.pyplot as plt\n",
        "import seaborn as sns\n",
        "import numpy as np\n",
        "import pandas as pd\n",
        "from sklearn import datasets, linear_model\n",
        "from sklearn.metrics import mean_squared_error, r2_score\n",
        "from sklearn.model_selection import train_test_split"
      ],
      "execution_count": 2,
      "outputs": []
    },
    {
      "cell_type": "markdown",
      "metadata": {
        "id": "B29He8W9L6PH"
      },
      "source": [
        "#### Code to avoid cell auto-scrolling"
      ]
    },
    {
      "cell_type": "code",
      "metadata": {
        "id": "L0wbAjeML6PH",
        "colab": {
          "base_uri": "https://localhost:8080/",
          "height": 17
        },
        "outputId": "43f4aeec-0c01-481e-b46c-6856fcc47532"
      },
      "source": [
        "%%javascript\n",
        "IPython.OutputArea.prototype._should_scroll = function(lines) {\n",
        "    return false;\n",
        "}"
      ],
      "execution_count": 3,
      "outputs": [
        {
          "output_type": "display_data",
          "data": {
            "application/javascript": [
              "IPython.OutputArea.prototype._should_scroll = function(lines) {\n",
              "    return false;\n",
              "}"
            ],
            "text/plain": [
              "<IPython.core.display.Javascript object>"
            ]
          },
          "metadata": {
            "tags": []
          }
        }
      ]
    },
    {
      "cell_type": "markdown",
      "metadata": {
        "id": "qQb3FoLzL6PI"
      },
      "source": [
        "#### Read the dataset provided by the company: \n",
        "They provide us with a csv file `Ecommerce_Customers.csv`"
      ]
    },
    {
      "cell_type": "markdown",
      "metadata": {
        "id": "315gR3KoL6PJ"
      },
      "source": [
        "The dataset contains information about the customers:\n",
        "    - Email: email of the customer.\n",
        "    - Address: address of the customer.\n",
        "    - Avatar: color of the avatar.\n",
        "    - Avg. Session Length: Average session of in-store style advice sessions.\n",
        "    - Time on App: Average time spent on App in minutes\n",
        "    - Time on Website: Average time spent on Website in minutes\n",
        "    - Length of Membership: How many years the customer has been a member."
      ]
    },
    {
      "cell_type": "code",
      "metadata": {
        "scrolled": true,
        "id": "C9fRl1knL6PJ",
        "colab": {
          "base_uri": "https://localhost:8080/",
          "height": 142
        },
        "outputId": "d1a777d6-9551-4a0e-ecf8-c5d04ae2dd2f"
      },
      "source": [
        "customers = pd.read_csv('Ecommerce_Customers.csv')\n",
        "customers.head(3)\n"
      ],
      "execution_count": 4,
      "outputs": [
        {
          "output_type": "execute_result",
          "data": {
            "text/html": [
              "<div>\n",
              "<style scoped>\n",
              "    .dataframe tbody tr th:only-of-type {\n",
              "        vertical-align: middle;\n",
              "    }\n",
              "\n",
              "    .dataframe tbody tr th {\n",
              "        vertical-align: top;\n",
              "    }\n",
              "\n",
              "    .dataframe thead th {\n",
              "        text-align: right;\n",
              "    }\n",
              "</style>\n",
              "<table border=\"1\" class=\"dataframe\">\n",
              "  <thead>\n",
              "    <tr style=\"text-align: right;\">\n",
              "      <th></th>\n",
              "      <th>Email</th>\n",
              "      <th>Address</th>\n",
              "      <th>Avatar</th>\n",
              "      <th>Avg. Session Length</th>\n",
              "      <th>Time on App</th>\n",
              "      <th>Time on Website</th>\n",
              "      <th>Length of Membership</th>\n",
              "      <th>Yearly Amount Spent</th>\n",
              "    </tr>\n",
              "  </thead>\n",
              "  <tbody>\n",
              "    <tr>\n",
              "      <th>0</th>\n",
              "      <td>mstephenson@fernandez.com</td>\n",
              "      <td>835 Frank Tunnel\\r\\nWrightmouth, MI 82180-9605</td>\n",
              "      <td>Violet</td>\n",
              "      <td>34.497268</td>\n",
              "      <td>12.655651</td>\n",
              "      <td>39.577668</td>\n",
              "      <td>4.082621</td>\n",
              "      <td>587.951054</td>\n",
              "    </tr>\n",
              "    <tr>\n",
              "      <th>1</th>\n",
              "      <td>hduke@hotmail.com</td>\n",
              "      <td>4547 Archer Common\\r\\nDiazchester, CA 06566-8576</td>\n",
              "      <td>DarkGreen</td>\n",
              "      <td>31.926272</td>\n",
              "      <td>11.109461</td>\n",
              "      <td>37.268959</td>\n",
              "      <td>2.664034</td>\n",
              "      <td>392.204933</td>\n",
              "    </tr>\n",
              "    <tr>\n",
              "      <th>2</th>\n",
              "      <td>pallen@yahoo.com</td>\n",
              "      <td>24645 Valerie Unions Suite 582\\r\\nCobbborough,...</td>\n",
              "      <td>Bisque</td>\n",
              "      <td>33.000915</td>\n",
              "      <td>11.330278</td>\n",
              "      <td>37.110597</td>\n",
              "      <td>4.104543</td>\n",
              "      <td>487.547505</td>\n",
              "    </tr>\n",
              "  </tbody>\n",
              "</table>\n",
              "</div>"
            ],
            "text/plain": [
              "                       Email  ... Yearly Amount Spent\n",
              "0  mstephenson@fernandez.com  ...          587.951054\n",
              "1          hduke@hotmail.com  ...          392.204933\n",
              "2           pallen@yahoo.com  ...          487.547505\n",
              "\n",
              "[3 rows x 8 columns]"
            ]
          },
          "metadata": {
            "tags": []
          },
          "execution_count": 4
        }
      ]
    },
    {
      "cell_type": "code",
      "metadata": {
        "id": "Al7rPtWCL6PJ",
        "colab": {
          "base_uri": "https://localhost:8080/",
          "height": 297
        },
        "outputId": "e0e7a949-aaf5-48cb-c175-fa58508587b4"
      },
      "source": [
        "customers.describe()"
      ],
      "execution_count": 5,
      "outputs": [
        {
          "output_type": "execute_result",
          "data": {
            "text/html": [
              "<div>\n",
              "<style scoped>\n",
              "    .dataframe tbody tr th:only-of-type {\n",
              "        vertical-align: middle;\n",
              "    }\n",
              "\n",
              "    .dataframe tbody tr th {\n",
              "        vertical-align: top;\n",
              "    }\n",
              "\n",
              "    .dataframe thead th {\n",
              "        text-align: right;\n",
              "    }\n",
              "</style>\n",
              "<table border=\"1\" class=\"dataframe\">\n",
              "  <thead>\n",
              "    <tr style=\"text-align: right;\">\n",
              "      <th></th>\n",
              "      <th>Avg. Session Length</th>\n",
              "      <th>Time on App</th>\n",
              "      <th>Time on Website</th>\n",
              "      <th>Length of Membership</th>\n",
              "      <th>Yearly Amount Spent</th>\n",
              "    </tr>\n",
              "  </thead>\n",
              "  <tbody>\n",
              "    <tr>\n",
              "      <th>count</th>\n",
              "      <td>500.000000</td>\n",
              "      <td>500.000000</td>\n",
              "      <td>500.000000</td>\n",
              "      <td>500.000000</td>\n",
              "      <td>500.000000</td>\n",
              "    </tr>\n",
              "    <tr>\n",
              "      <th>mean</th>\n",
              "      <td>33.053194</td>\n",
              "      <td>12.052488</td>\n",
              "      <td>37.060445</td>\n",
              "      <td>3.533462</td>\n",
              "      <td>499.314038</td>\n",
              "    </tr>\n",
              "    <tr>\n",
              "      <th>std</th>\n",
              "      <td>0.992563</td>\n",
              "      <td>0.994216</td>\n",
              "      <td>1.010489</td>\n",
              "      <td>0.999278</td>\n",
              "      <td>79.314782</td>\n",
              "    </tr>\n",
              "    <tr>\n",
              "      <th>min</th>\n",
              "      <td>29.532429</td>\n",
              "      <td>8.508152</td>\n",
              "      <td>33.913847</td>\n",
              "      <td>0.269901</td>\n",
              "      <td>256.670582</td>\n",
              "    </tr>\n",
              "    <tr>\n",
              "      <th>25%</th>\n",
              "      <td>32.341822</td>\n",
              "      <td>11.388153</td>\n",
              "      <td>36.349257</td>\n",
              "      <td>2.930450</td>\n",
              "      <td>445.038277</td>\n",
              "    </tr>\n",
              "    <tr>\n",
              "      <th>50%</th>\n",
              "      <td>33.082008</td>\n",
              "      <td>11.983231</td>\n",
              "      <td>37.069367</td>\n",
              "      <td>3.533975</td>\n",
              "      <td>498.887875</td>\n",
              "    </tr>\n",
              "    <tr>\n",
              "      <th>75%</th>\n",
              "      <td>33.711985</td>\n",
              "      <td>12.753850</td>\n",
              "      <td>37.716432</td>\n",
              "      <td>4.126502</td>\n",
              "      <td>549.313828</td>\n",
              "    </tr>\n",
              "    <tr>\n",
              "      <th>max</th>\n",
              "      <td>36.139662</td>\n",
              "      <td>15.126994</td>\n",
              "      <td>40.005182</td>\n",
              "      <td>6.922689</td>\n",
              "      <td>765.518462</td>\n",
              "    </tr>\n",
              "  </tbody>\n",
              "</table>\n",
              "</div>"
            ],
            "text/plain": [
              "       Avg. Session Length  ...  Yearly Amount Spent\n",
              "count           500.000000  ...           500.000000\n",
              "mean             33.053194  ...           499.314038\n",
              "std               0.992563  ...            79.314782\n",
              "min              29.532429  ...           256.670582\n",
              "25%              32.341822  ...           445.038277\n",
              "50%              33.082008  ...           498.887875\n",
              "75%              33.711985  ...           549.313828\n",
              "max              36.139662  ...           765.518462\n",
              "\n",
              "[8 rows x 5 columns]"
            ]
          },
          "metadata": {
            "tags": []
          },
          "execution_count": 5
        }
      ]
    },
    {
      "cell_type": "markdown",
      "metadata": {
        "id": "5diG96Y4L6PK"
      },
      "source": [
        "### Exploatory Data analysis"
      ]
    },
    {
      "cell_type": "markdown",
      "metadata": {
        "id": "V8KeZ4gSL6PK"
      },
      "source": [
        "Perform some exploratory data analysis:\n",
        "    - Manual feature engineering. Is there any variable that do not make sense to take into account for your analysis? If yes, remove thos variables.\n",
        "    - Check for missing values\n",
        "    - check the distribution of the target variable to see if there is some outlier\n",
        "    - check which are the variables with highest correlation with the target variable\n",
        "    - check for multi-colinearity"
      ]
    },
    {
      "cell_type": "markdown",
      "metadata": {
        "id": "KVxLvOFyL6PL"
      },
      "source": [
        "**Manual feature engineering. Is there any variable that do not make sense to take into account for your analysis? If yes, explain why you think they are useless and remove them.**\n",
        "\n"
      ]
    },
    {
      "cell_type": "markdown",
      "metadata": {
        "id": "ZyGdNOFDL6PL"
      },
      "source": [
        "Write your answer here:\n",
        "\n",
        "\n",
        "\n",
        "\n"
      ]
    },
    {
      "cell_type": "code",
      "metadata": {
        "id": "7HD-3LksL6PL"
      },
      "source": [
        "#I believe we should only take into account two independent variables and one dependent. The two idependents being average time in the app and average time in the website and the independent being yearly amount spent.\n",
        "#In order to check what variable influences more yearly amount spent I will create two models using the 2 different models. Then I will create a multivariate model to see if a combination of the two has a bigger explanatory capability.\n",
        "#Altough it would be interesting to check for potential relationships between our two independents and length of membership I believe that is beyond the business question.\n"
      ],
      "execution_count": 6,
      "outputs": []
    },
    {
      "cell_type": "markdown",
      "metadata": {
        "id": "qqKoiDtvL6PL"
      },
      "source": [
        "#### Check Missing values"
      ]
    },
    {
      "cell_type": "code",
      "metadata": {
        "id": "eu7QVPYxL6PM",
        "colab": {
          "base_uri": "https://localhost:8080/"
        },
        "outputId": "48486c23-afb8-463c-ae80-36521a0819be"
      },
      "source": [
        "customers.isnull().count()\n",
        "#There are no missing values since all values are false when asking if there are null values.\n"
      ],
      "execution_count": 7,
      "outputs": [
        {
          "output_type": "execute_result",
          "data": {
            "text/plain": [
              "Email                   500\n",
              "Address                 500\n",
              "Avatar                  500\n",
              "Avg. Session Length     500\n",
              "Time on App             500\n",
              "Time on Website         500\n",
              "Length of Membership    500\n",
              "Yearly Amount Spent     500\n",
              "dtype: int64"
            ]
          },
          "metadata": {
            "tags": []
          },
          "execution_count": 7
        }
      ]
    },
    {
      "cell_type": "markdown",
      "metadata": {
        "id": "6YN5phQ5L6PM"
      },
      "source": [
        "#### Check disttribution of the target variable"
      ]
    },
    {
      "cell_type": "code",
      "metadata": {
        "id": "nCLT6UI7L6PM",
        "colab": {
          "base_uri": "https://localhost:8080/",
          "height": 421
        },
        "outputId": "fb0eb4a7-5d97-47bd-f3ed-d2d91cbbede0"
      },
      "source": [
        "plt.figure(figsize=(15,5))\n",
        "plt.subplot(1,2,1)\n",
        "sns.distplot(customers.iloc[:,7])\n",
        "plt.title('Yearly amount spent distribution')\n",
        "#We are going to use yearly amount spent as our target value. As we can see the variable is normally distributed around the mean which is 499.3.\n",
        "\n"
      ],
      "execution_count": 8,
      "outputs": [
        {
          "output_type": "stream",
          "text": [
            "/usr/local/lib/python3.6/dist-packages/seaborn/distributions.py:2557: FutureWarning: `distplot` is a deprecated function and will be removed in a future version. Please adapt your code to use either `displot` (a figure-level function with similar flexibility) or `histplot` (an axes-level function for histograms).\n",
            "  warnings.warn(msg, FutureWarning)\n"
          ],
          "name": "stderr"
        },
        {
          "output_type": "execute_result",
          "data": {
            "text/plain": [
              "Text(0.5, 1.0, 'Yearly amount spent distribution')"
            ]
          },
          "metadata": {
            "tags": []
          },
          "execution_count": 8
        },
        {
          "output_type": "display_data",
          "data": {
            "image/png": "[encoded data removed]",
            "text/plain": [
              "<Figure size 1080x360 with 1 Axes>"
            ]
          },
          "metadata": {
            "tags": [],
            "needs_background": "light"
          }
        }
      ]
    },
    {
      "cell_type": "markdown",
      "metadata": {
        "id": "-2AT1y81L6PM"
      },
      "source": [
        "#### Check correlation among variables\n",
        "\n",
        "Explore the relation between each indipendent variable and the dipendent variable using multiple plots, among them also **jointplot** plots. \n",
        "    "
      ]
    },
    {
      "cell_type": "code",
      "metadata": {
        "id": "nhzBI49uL6PN",
        "colab": {
          "base_uri": "https://localhost:8080/",
          "height": 596
        },
        "outputId": "4ee40160-8416-4d96-8ccc-962dd82656ab"
      },
      "source": [
        "#First we are going to plot a heatmap to check overall correlation amongst variables to then explore more in detail this relationships.\n",
        "plt.figure(figsize = (25,10))\n",
        "sns.heatmap(customers.corr(),annot=True,cmap = 'YlGnBu')\n",
        "plt.show()\n",
        "#As we can see from the heatmap our two independent variables hav"
      ],
      "execution_count": 9,
      "outputs": [
        {
          "output_type": "display_data",
          "data": {
            "image/png": "[encoded data removed]",
            "text/plain": [
              "<Figure size 1800x720 with 2 Axes>"
            ]
          },
          "metadata": {
            "tags": [],
            "needs_background": "light"
          }
        }
      ]
    },
    {
      "cell_type": "markdown",
      "metadata": {
        "id": "n1aeamhiPF6P"
      },
      "source": [
        "As we can see from the heatmap our two independent variables have quite different correlation variables with our dependent variable. Time on website shows close to no correlation while time on app shows a 0.5 value which tells us there is some explanatory capability in this variable. In addition to this there is little correlation between our two independent variables this may prove useful later when ploting our model. Finally we can see that the two most correlated variables are length of membership and yearly amount spent this makes a lot of logical sense however its outside our business question.\r\n"
      ]
    },
    {
      "cell_type": "code",
      "metadata": {
        "id": "e5-NvR2SL6PN"
      },
      "source": [
        "#In the next cells we will do some joint plots to further visualize the relationship between our dependendent and independent variables."
      ],
      "execution_count": 10,
      "outputs": []
    },
    {
      "cell_type": "code",
      "metadata": {
        "id": "Bf823nV7Sszi",
        "colab": {
          "base_uri": "https://localhost:8080/",
          "height": 512
        },
        "outputId": "164eb5f8-aa7c-484e-bdcb-1a4f02ed0477"
      },
      "source": [
        "plt.figure(figsize = (25,10))\r\n",
        "sns.jointplot(customers.iloc[:,4],customers.iloc[:,7],kind=\"reg\")\r\n",
        "plt.show()\r\n",
        " #As we can see through this plot there is a significant relationship between both variables (time on app vs yearly amount spent)"
      ],
      "execution_count": 11,
      "outputs": [
        {
          "output_type": "stream",
          "text": [
            "/usr/local/lib/python3.6/dist-packages/seaborn/_decorators.py:43: FutureWarning: Pass the following variables as keyword args: x, y. From version 0.12, the only valid positional argument will be `data`, and passing other arguments without an explicit keyword will result in an error or misinterpretation.\n",
            "  FutureWarning\n"
          ],
          "name": "stderr"
        },
        {
          "output_type": "display_data",
          "data": {
            "text/plain": [
              "<Figure size 1800x720 with 0 Axes>"
            ]
          },
          "metadata": {
            "tags": []
          }
        },
        {
          "output_type": "display_data",
          "data": {
            "image/png": "[encoded data removed]",
            "text/plain": [
              "<Figure size 432x432 with 3 Axes>"
            ]
          },
          "metadata": {
            "tags": [],
            "needs_background": "light"
          }
        }
      ]
    },
    {
      "cell_type": "code",
      "metadata": {
        "id": "5OWuzoJWL6PN",
        "colab": {
          "base_uri": "https://localhost:8080/",
          "height": 512
        },
        "outputId": "75dd7a83-4476-4289-b9ba-0f800c8612c7"
      },
      "source": [
        "plt.figure(figsize = (25,10))\r\n",
        "sns.jointplot(customers.iloc[:,5],customers.iloc[:,7],kind=\"reg\")\r\n",
        "plt.show()\r\n",
        " #As we can see through this plot there is no significant relationship between both variables (time on website vs yearly amount spent)"
      ],
      "execution_count": 12,
      "outputs": [
        {
          "output_type": "stream",
          "text": [
            "/usr/local/lib/python3.6/dist-packages/seaborn/_decorators.py:43: FutureWarning: Pass the following variables as keyword args: x, y. From version 0.12, the only valid positional argument will be `data`, and passing other arguments without an explicit keyword will result in an error or misinterpretation.\n",
            "  FutureWarning\n"
          ],
          "name": "stderr"
        },
        {
          "output_type": "display_data",
          "data": {
            "text/plain": [
              "<Figure size 1800x720 with 0 Axes>"
            ]
          },
          "metadata": {
            "tags": []
          }
        },
        {
          "output_type": "display_data",
          "data": {
            "image/png": "[encoded data removed]",
            "text/plain": [
              "<Figure size 432x432 with 3 Axes>"
            ]
          },
          "metadata": {
            "tags": [],
            "needs_background": "light"
          }
        }
      ]
    },
    {
      "cell_type": "code",
      "metadata": {
        "id": "N9v7TPWrUKdt",
        "colab": {
          "base_uri": "https://localhost:8080/",
          "height": 512
        },
        "outputId": "96a6a9eb-7e1a-4faf-c578-ccba14f9e37b"
      },
      "source": [
        "plt.figure(figsize = (25,10))\r\n",
        "sns.jointplot(customers.iloc[:,4],customers.iloc[:,5],kind=\"reg\")\r\n",
        "plt.show()\r\n",
        "#This plot shows a week correlation between both our independent variables, although the relationship is weak we should still be careful when deploying our model."
      ],
      "execution_count": 13,
      "outputs": [
        {
          "output_type": "stream",
          "text": [
            "/usr/local/lib/python3.6/dist-packages/seaborn/_decorators.py:43: FutureWarning: Pass the following variables as keyword args: x, y. From version 0.12, the only valid positional argument will be `data`, and passing other arguments without an explicit keyword will result in an error or misinterpretation.\n",
            "  FutureWarning\n"
          ],
          "name": "stderr"
        },
        {
          "output_type": "display_data",
          "data": {
            "text/plain": [
              "<Figure size 1800x720 with 0 Axes>"
            ]
          },
          "metadata": {
            "tags": []
          }
        },
        {
          "output_type": "display_data",
          "data": {
            "image/png": "[encoded data removed]",
            "text/plain": [
              "<Figure size 432x432 with 3 Axes>"
            ]
          },
          "metadata": {
            "tags": [],
            "needs_background": "light"
          }
        }
      ]
    },
    {
      "cell_type": "markdown",
      "metadata": {
        "id": "XtcPUPg1L6PN"
      },
      "source": [
        "## Predictive model"
      ]
    },
    {
      "cell_type": "markdown",
      "metadata": {
        "id": "Ji0qEB30L6PO"
      },
      "source": [
        "Now that we have explored a bit the data we want to create a predictive model to understand if \n",
        "the company should focus more on their mobile app experience or on their website.\n",
        "\n",
        "Or maybe there is some other apsect that is still more important and and the company should focus on it!!\n",
        "\n",
        "Let's implement a simple linear regression model (choose the variable you reatin more appropriate and explain why you chose it) and a multivariate model that uses multiple variables. \n",
        "\n",
        "Then, based on your preliminary exploratoy data analysis and on the models' results draw your conclusion."
      ]
    },
    {
      "cell_type": "markdown",
      "metadata": {
        "id": "Zmdt9MO3L6PO"
      },
      "source": [
        "### Simple linear regression"
      ]
    },
    {
      "cell_type": "code",
      "metadata": {
        "id": "SjEXkps2L6PO"
      },
      "source": [
        "#We are going to plot two models using our two independent variables(although we know that time on the app has a far higher correlation i believe its interesting to create both models). We will see then what model is best at explaining our dependent variable.\n",
        "#First we will use time spent on the app to create an OLS model."
      ],
      "execution_count": 63,
      "outputs": []
    },
    {
      "cell_type": "markdown",
      "metadata": {
        "id": "bX4UJxVBL6PP"
      },
      "source": [
        "### Training and test splits\n",
        "Split the data into training and testing sets. We train the model with 75% of the samples and test with the remaining 25%. We do this to assess the model’s performance on unseen data. To split the data you may use ```scikit-learn library```. Finally print the sizes of our training and test set to verify if the splitting has occurred properly.\n",
        "\n",
        "**Use model_selection.train_test_split from sklearn to split the data into training and testing sets. Set random_state=5**"
      ]
    },
    {
      "cell_type": "code",
      "metadata": {
        "id": "Xtl2QI35L6PP",
        "colab": {
          "base_uri": "https://localhost:8080/"
        },
        "outputId": "2394d194-1010-4607-a473-d2e8104e1467"
      },
      "source": [
        "#Time on app model. We first slice our data to then split into train and test.\n",
        "X = customers.iloc[:,4]\n",
        "y = customers.iloc[:,7]\n",
        "X_train, X_test, y_train, y_test = train_test_split(X, y, test_size=0.25,random_state=5)\n",
        "print(X_train.shape)\n",
        "print(X_test.shape)\n",
        "print(y_train.shape)\n",
        "print(y_test.shape)\n",
        "\n"
      ],
      "execution_count": 80,
      "outputs": [
        {
          "output_type": "stream",
          "text": [
            "(375,)\n",
            "(125,)\n",
            "(375,)\n",
            "(125,)\n"
          ],
          "name": "stdout"
        }
      ]
    },
    {
      "cell_type": "code",
      "metadata": {
        "colab": {
          "base_uri": "https://localhost:8080/"
        },
        "id": "wfrXw2yAlIV7",
        "outputId": "fb802097-02bc-42e0-f033-dee627898a8d"
      },
      "source": [
        "#Time on website model\r\n",
        "R = customers.iloc[:,5]\r\n",
        "z = customers.iloc[:,7]\r\n",
        "R_train, R_test, z_train, z_test = train_test_split(R, z, test_size=0.25,random_state=5)\r\n",
        "print(R_train.shape)\r\n",
        "print(R_test.shape)\r\n",
        "print(z_train.shape)\r\n",
        "print(z_test.shape)\r\n"
      ],
      "execution_count": 81,
      "outputs": [
        {
          "output_type": "stream",
          "text": [
            "(375,)\n",
            "(125,)\n",
            "(375,)\n",
            "(125,)\n"
          ],
          "name": "stdout"
        }
      ]
    },
    {
      "cell_type": "markdown",
      "metadata": {
        "id": "tSz1ou-1L6PP"
      },
      "source": [
        "### Training of the model"
      ]
    },
    {
      "cell_type": "code",
      "metadata": {
        "id": "FCYMLZTbL6PP"
      },
      "source": [
        "#Time on app model. We are going to use numpys polynomial fit to create our model.\n",
        "pred = np.polyfit(X_train,y_train,1)"
      ],
      "execution_count": 17,
      "outputs": []
    },
    {
      "cell_type": "code",
      "metadata": {
        "id": "oxlRZqYMlFZe"
      },
      "source": [
        "#Time on website model\r\n",
        "pred2 = np.polyfit(R_train,z_train,1)"
      ],
      "execution_count": 64,
      "outputs": []
    },
    {
      "cell_type": "markdown",
      "metadata": {
        "id": "62pWgQcRL6PQ"
      },
      "source": [
        "#### Print the coeficients of the model"
      ]
    },
    {
      "cell_type": "code",
      "metadata": {
        "id": "0JwnBHB9L6PQ",
        "colab": {
          "base_uri": "https://localhost:8080/"
        },
        "outputId": "1d0e375d-e593-4bcb-b4dd-9250244b4d9c"
      },
      "source": [
        "#Coeffictient time on app model\n",
        "print(m)\n",
        "#Intercept time on app  model\n",
        "print(b)\n",
        "#We will explain more in detail later the meaning of these coefficients"
      ],
      "execution_count": 68,
      "outputs": [
        {
          "output_type": "stream",
          "text": [
            "40.82223137363088\n",
            "6.009022243659865\n"
          ],
          "name": "stdout"
        }
      ]
    },
    {
      "cell_type": "code",
      "metadata": {
        "colab": {
          "base_uri": "https://localhost:8080/"
        },
        "id": "i3uWgcM1wUkC",
        "outputId": "09ca72c2-52f6-4af1-f78a-6b919b25cd92"
      },
      "source": [
        "#Coeffictiet time on website model\r\n",
        "print(r)\r\n",
        "#Intercept time on website model\r\n",
        "print(p)"
      ],
      "execution_count": 70,
      "outputs": [
        {
          "output_type": "stream",
          "text": [
            "1.8972994000579342\n",
            "427.7013923038383\n"
          ],
          "name": "stdout"
        }
      ]
    },
    {
      "cell_type": "markdown",
      "metadata": {
        "id": "GJafaC1eL6PQ"
      },
      "source": [
        "### Make a plot to show how the model fit the training data.\n",
        "\n",
        "Looking at the plot explain if the coefficients you found make sense"
      ]
    },
    {
      "cell_type": "code",
      "metadata": {
        "colab": {
          "base_uri": "https://localhost:8080/",
          "height": 282
        },
        "id": "i8afKzbIk6cT",
        "outputId": "ff78f71d-2234-4039-9f5b-92d7a1bee4a6"
      },
      "source": [
        "#Time on app plot\r\n",
        "pred = np.polyfit(X_train,y_train,1)\r\n",
        "m, b = np.polyfit(X_train,y_train,1)\r\n",
        "plt.scatter(X_train, y_train, color='black')\r\n",
        "plt.plot(X_train, m*X_train + b)\r\n",
        "#As we can see we can appreciate some form of linear relationship between time in the app and yearly amount spent."
      ],
      "execution_count": 55,
      "outputs": [
        {
          "output_type": "execute_result",
          "data": {
            "text/plain": [
              "[<matplotlib.lines.Line2D at 0x7f0d16904cf8>]"
            ]
          },
          "metadata": {
            "tags": []
          },
          "execution_count": 55
        },
        {
          "output_type": "display_data",
          "data": {
            "image/png": "[encoded data removed]",
            "text/plain": [
              "<Figure size 432x288 with 1 Axes>"
            ]
          },
          "metadata": {
            "tags": [],
            "needs_background": "light"
          }
        }
      ]
    },
    {
      "cell_type": "code",
      "metadata": {
        "colab": {
          "base_uri": "https://localhost:8080/",
          "height": 282
        },
        "id": "Pe57dVFLuNmV",
        "outputId": "f48161a3-b0ba-4ee7-beec-17c448c1b840"
      },
      "source": [
        "#Time on website plot\r\n",
        "pred2 = np.polyfit(R_train,z_train,1)\r\n",
        "r, p = np.polyfit(R_train,z_train,1)\r\n",
        "plt.scatter(R_train, z_train, color='black')\r\n",
        "plt.plot(R_train, r*R_train + p)\r\n",
        "#However here there is close to no linearity between both variables. We almost have a straight line."
      ],
      "execution_count": 69,
      "outputs": [
        {
          "output_type": "execute_result",
          "data": {
            "text/plain": [
              "[<matplotlib.lines.Line2D at 0x7f0d166ec898>]"
            ]
          },
          "metadata": {
            "tags": []
          },
          "execution_count": 69
        },
        {
          "output_type": "display_data",
          "data": {
            "image/png": "[encoded data removed]",
            "text/plain": [
              "<Figure size 432x288 with 1 Axes>"
            ]
          },
          "metadata": {
            "tags": [],
            "needs_background": "light"
          }
        }
      ]
    },
    {
      "cell_type": "markdown",
      "metadata": {
        "id": "wUnuIabIL6PQ"
      },
      "source": [
        "### Evaluate the model on the test set\n",
        "\n",
        "    - Make some plots you think maybe usefull to evaluate the predictions of our model and then evaluate it through some metrics."
      ]
    },
    {
      "cell_type": "code",
      "metadata": {
        "id": "WW4BV3qVtMkZ",
        "colab": {
          "base_uri": "https://localhost:8080/",
          "height": 282
        },
        "outputId": "b02f1672-bec3-461f-d36a-18852d47779a"
      },
      "source": [
        "#Time on app model predictios plot\r\n",
        "Prediction = np.polyval(pred, X_test)\r\n",
        "plt.scatter(X_test,y_test, color='black')\r\n",
        "plt.plot(X_test, Prediction)\r\n",
        "#As we can see again in the prediction we can appreciate a kind of linear relationship in the test data which our model to a certain degree fits."
      ],
      "execution_count": 58,
      "outputs": [
        {
          "output_type": "execute_result",
          "data": {
            "text/plain": [
              "[<matplotlib.lines.Line2D at 0x7f0d167dde80>]"
            ]
          },
          "metadata": {
            "tags": []
          },
          "execution_count": 58
        },
        {
          "output_type": "display_data",
          "data": {
            "image/png": "[encoded data removed]",
            "text/plain": [
              "<Figure size 432x288 with 1 Axes>"
            ]
          },
          "metadata": {
            "tags": [],
            "needs_background": "light"
          }
        }
      ]
    },
    {
      "cell_type": "code",
      "metadata": {
        "colab": {
          "base_uri": "https://localhost:8080/",
          "height": 282
        },
        "id": "UW8WeOQkucEA",
        "outputId": "8f4a6e3a-65eb-4c2b-c9c8-d07db4801b38"
      },
      "source": [
        "#Time on website model predictions plot\r\n",
        "Prediction2 = np.polyval(pred2, R_test)\r\n",
        "plt.scatter(R_test,z_test, color='black')\r\n",
        "plt.plot(R_test, Prediction2)\r\n",
        "#Again the test data has no linearity and our model completely misfits the data."
      ],
      "execution_count": 60,
      "outputs": [
        {
          "output_type": "execute_result",
          "data": {
            "text/plain": [
              "[<matplotlib.lines.Line2D at 0x7f0d1675a9e8>]"
            ]
          },
          "metadata": {
            "tags": []
          },
          "execution_count": 60
        },
        {
          "output_type": "display_data",
          "data": {
            "image/png": "[encoded data removed]",
            "text/plain": [
              "<Figure size 432x288 with 1 Axes>"
            ]
          },
          "metadata": {
            "tags": [],
            "needs_background": "light"
          }
        }
      ]
    },
    {
      "cell_type": "markdown",
      "metadata": {
        "id": "S86izOZlL6PR"
      },
      "source": [
        "#### Evalution Metrics"
      ]
    },
    {
      "cell_type": "code",
      "metadata": {
        "id": "qDQXGMW3L6PR",
        "colab": {
          "base_uri": "https://localhost:8080/"
        },
        "outputId": "9a5a2430-0d41-4fd2-86de-1b13d7dd06b4"
      },
      "source": [
        "#time on app model evaluation\n",
        "from sklearn.metrics import r2_score\n",
        "from sklearn.metrics import mean_squared_error\n",
        "print(\"r2 score:\",r2_score(y_test, Prediction))\n",
        "print(\"mean squared error:\",mean_squared_error(y_test,Prediction))\n",
        "#We get weak r2 scores and quite a large mean squared error showing that our model does not fit too well the data. However it does have some predictive capabilities.\n",
        "\n"
      ],
      "execution_count": 76,
      "outputs": [
        {
          "output_type": "stream",
          "text": [
            "r2 score: 0.19460615741124754\n",
            "mean squared error: 4517.454800562366\n"
          ],
          "name": "stdout"
        }
      ]
    },
    {
      "cell_type": "code",
      "metadata": {
        "colab": {
          "base_uri": "https://localhost:8080/"
        },
        "id": "lPA0GxBD3ZWg",
        "outputId": "5b4271ca-d544-498a-ee64-a8e92fd481bb"
      },
      "source": [
        "#time on website model evaluation\r\n",
        "print(\"r2 score:\",r2_score(z_test, Prediction2))\r\n",
        "print(\"mean squared error:\",mean_squared_error(z_test,Prediction2))\r\n",
        "#Our model has an extremely poor performance with a negative r squared and a large mse"
      ],
      "execution_count": 77,
      "outputs": [
        {
          "output_type": "stream",
          "text": [
            "r2 score: -0.009900925004276084\n",
            "mean squared error: 5664.535213093834\n"
          ],
          "name": "stdout"
        }
      ]
    },
    {
      "cell_type": "markdown",
      "metadata": {
        "id": "je9REVm7L6PR"
      },
      "source": [
        "## Multivariate Model"
      ]
    },
    {
      "cell_type": "code",
      "metadata": {
        "id": "tgMxfO2yL6PR",
        "colab": {
          "base_uri": "https://localhost:8080/"
        },
        "outputId": "3a29f372-fc4a-4489-96a1-cfa63a93fdb5"
      },
      "source": [
        "X = customers.iloc[:,4]\n",
        "y = customers.iloc[:,7]\n",
        "X_train, X_test, y_train, y_test = train_test_split(X, y, test_size=0.25,random_state=5)\n",
        "print(X_train.shape)\n",
        "print(X_test.shape)\n",
        "print(y_train.shape)\n",
        "print(y_test.shape)\n",
        "R = customers.iloc[:,5]\n",
        "z = customers.iloc[:,7]\n",
        "R_train, R_test, z_train, z_test = train_test_split(R, z, test_size=0.25,random_state=5)\n",
        "print(R_train.shape)\n",
        "print(R_test.shape)\n",
        "print(z_train.shape)\n",
        "print(z_test.shape)\n",
        "variables = pd.concat([X_train, R_train], join = 'outer', axis = 1) \n",
        "variables2 = pd.concat([X_test,R_test],join='outer',axis = 1)\n",
        "#We prepare our data by creating two dataframes that join and our two independent variables and split them in train test split."
      ],
      "execution_count": 128,
      "outputs": [
        {
          "output_type": "stream",
          "text": [
            "(375,)\n",
            "(125,)\n",
            "(375,)\n",
            "(125,)\n",
            "(375,)\n",
            "(125,)\n",
            "(375,)\n",
            "(125,)\n"
          ],
          "name": "stdout"
        }
      ]
    },
    {
      "cell_type": "code",
      "metadata": {
        "colab": {
          "base_uri": "https://localhost:8080/",
          "height": 419
        },
        "id": "llChxYhIHm7F",
        "outputId": "00bc417f-b045-4be6-aa65-a8ae8016e8f0"
      },
      "source": [
        "variables = variables.sort_index()\r\n",
        "variables2 = variables2.sort_index()\r\n",
        "\r\n",
        "#We sort the variables in ascending order"
      ],
      "execution_count": 129,
      "outputs": [
        {
          "output_type": "execute_result",
          "data": {
            "text/html": [
              "<div>\n",
              "<style scoped>\n",
              "    .dataframe tbody tr th:only-of-type {\n",
              "        vertical-align: middle;\n",
              "    }\n",
              "\n",
              "    .dataframe tbody tr th {\n",
              "        vertical-align: top;\n",
              "    }\n",
              "\n",
              "    .dataframe thead th {\n",
              "        text-align: right;\n",
              "    }\n",
              "</style>\n",
              "<table border=\"1\" class=\"dataframe\">\n",
              "  <thead>\n",
              "    <tr style=\"text-align: right;\">\n",
              "      <th></th>\n",
              "      <th>Time on App</th>\n",
              "      <th>Time on Website</th>\n",
              "    </tr>\n",
              "  </thead>\n",
              "  <tbody>\n",
              "    <tr>\n",
              "      <th>9</th>\n",
              "      <td>11.814128</td>\n",
              "      <td>37.145168</td>\n",
              "    </tr>\n",
              "    <tr>\n",
              "      <th>21</th>\n",
              "      <td>12.877984</td>\n",
              "      <td>37.441021</td>\n",
              "    </tr>\n",
              "    <tr>\n",
              "      <th>28</th>\n",
              "      <td>11.982045</td>\n",
              "      <td>35.293088</td>\n",
              "    </tr>\n",
              "    <tr>\n",
              "      <th>33</th>\n",
              "      <td>13.104507</td>\n",
              "      <td>38.878041</td>\n",
              "    </tr>\n",
              "    <tr>\n",
              "      <th>34</th>\n",
              "      <td>11.634893</td>\n",
              "      <td>35.368626</td>\n",
              "    </tr>\n",
              "    <tr>\n",
              "      <th>...</th>\n",
              "      <td>...</td>\n",
              "      <td>...</td>\n",
              "    </tr>\n",
              "    <tr>\n",
              "      <th>479</th>\n",
              "      <td>11.761884</td>\n",
              "      <td>38.126520</td>\n",
              "    </tr>\n",
              "    <tr>\n",
              "      <th>481</th>\n",
              "      <td>12.482670</td>\n",
              "      <td>35.536025</td>\n",
              "    </tr>\n",
              "    <tr>\n",
              "      <th>484</th>\n",
              "      <td>11.903757</td>\n",
              "      <td>36.874544</td>\n",
              "    </tr>\n",
              "    <tr>\n",
              "      <th>494</th>\n",
              "      <td>13.350632</td>\n",
              "      <td>37.965972</td>\n",
              "    </tr>\n",
              "    <tr>\n",
              "      <th>496</th>\n",
              "      <td>11.695736</td>\n",
              "      <td>37.190268</td>\n",
              "    </tr>\n",
              "  </tbody>\n",
              "</table>\n",
              "<p>125 rows × 2 columns</p>\n",
              "</div>"
            ],
            "text/plain": [
              "     Time on App  Time on Website\n",
              "9      11.814128        37.145168\n",
              "21     12.877984        37.441021\n",
              "28     11.982045        35.293088\n",
              "33     13.104507        38.878041\n",
              "34     11.634893        35.368626\n",
              "..           ...              ...\n",
              "479    11.761884        38.126520\n",
              "481    12.482670        35.536025\n",
              "484    11.903757        36.874544\n",
              "494    13.350632        37.965972\n",
              "496    11.695736        37.190268\n",
              "\n",
              "[125 rows x 2 columns]"
            ]
          },
          "metadata": {
            "tags": []
          },
          "execution_count": 129
        }
      ]
    },
    {
      "cell_type": "markdown",
      "metadata": {
        "id": "sDrCpYWoL6PS"
      },
      "source": [
        "### Training of the model"
      ]
    },
    {
      "cell_type": "code",
      "metadata": {
        "id": "AvVtxWo_L6PS"
      },
      "source": [
        "regr = linear_model.LinearRegression()\n",
        "model = regr.fit(variables, y_train)\n",
        "#We fit a linear model imported from sklearn"
      ],
      "execution_count": 130,
      "outputs": []
    },
    {
      "cell_type": "markdown",
      "metadata": {
        "id": "d4oBkwslL6PT"
      },
      "source": [
        "#### Print the coeficients of the model"
      ]
    },
    {
      "cell_type": "code",
      "metadata": {
        "id": "KpwacODIL6PT",
        "colab": {
          "base_uri": "https://localhost:8080/"
        },
        "outputId": "0301128d-7196-488f-c7fe-6720ab7e4f7f"
      },
      "source": [
        "print(regr.coef_)\n",
        "#As we can see we get low coefficients"
      ],
      "execution_count": 131,
      "outputs": [
        {
          "output_type": "stream",
          "text": [
            "[-13.56971425   3.25273113]\n"
          ],
          "name": "stdout"
        }
      ]
    },
    {
      "cell_type": "markdown",
      "metadata": {
        "id": "zOSOVrVnL6PT"
      },
      "source": [
        "### Evaluate the model on the test set\n",
        "\n",
        "    - Make some plots you think maybe usefull to evaluate the predictions of our model and then evaluate it through some metrics."
      ]
    },
    {
      "cell_type": "code",
      "metadata": {
        "colab": {
          "base_uri": "https://localhost:8080/"
        },
        "id": "9L8TDuiTNP-5",
        "outputId": "96a8edde-ae1e-420e-f2c4-50cecdada31d"
      },
      "source": [
        "m_prediction = model.predict(variables2)\r\n",
        "m_prediction"
      ],
      "execution_count": 132,
      "outputs": [
        {
          "output_type": "execute_result",
          "data": {
            "text/plain": [
              "array([501.52178328, 488.04790011, 493.21888187, 489.6482773 ,\n",
              "       498.17533846, 503.88694148, 504.54275659, 483.36360518,\n",
              "       505.37633778, 475.85197872, 522.79771144, 522.40772522,\n",
              "       481.95204541, 483.74615679, 492.67935497, 500.92702179,\n",
              "       494.17741856, 505.00191496, 493.77689618, 509.52468869,\n",
              "       518.2257352 , 497.405404  , 498.99102495, 511.82110663,\n",
              "       486.0726679 , 517.29705725, 499.1110395 , 502.44471281,\n",
              "       513.66193226, 500.81892674, 489.51674568, 490.33786571,\n",
              "       512.6233572 , 520.19804127, 494.67583018, 485.31292896,\n",
              "       479.5232239 , 493.5817324 , 485.67595775, 495.43156873,\n",
              "       518.90892212, 519.97309171, 509.77852368, 497.4888734 ,\n",
              "       511.52447987, 502.76433618, 475.37064754, 504.05863052,\n",
              "       488.71467935, 499.13014432, 511.40675938, 511.08341022,\n",
              "       515.77014638, 494.65400421, 502.67389073, 478.89502194,\n",
              "       484.75196039, 481.24409354, 504.09313366, 486.92562536,\n",
              "       513.59405302, 470.09113033, 504.51497981, 483.27645723,\n",
              "       480.44806393, 478.18992524, 480.1680824 , 508.28748273,\n",
              "       496.01874688, 506.72365224, 505.91230273, 516.84421323,\n",
              "       505.35875099, 501.12923543, 495.3913368 , 482.22993323,\n",
              "       476.57777409, 498.92256252, 513.48885812, 482.43168775,\n",
              "       478.93703348, 507.62243767, 496.35590242, 514.07820943,\n",
              "       502.93940705, 505.69597474, 520.56116932, 495.20137551,\n",
              "       482.69793801, 502.09928207, 495.45278345, 498.88187324,\n",
              "       527.41566307, 484.09057184, 501.79887472, 505.52584478,\n",
              "       490.10622326, 482.52328999, 509.06619383, 493.8875956 ,\n",
              "       501.53877189, 513.94271041, 484.85712133, 470.91938332,\n",
              "       488.83307783, 469.66098105, 493.70278665, 498.44103363,\n",
              "       497.70721321, 494.21717461, 505.00414074, 514.83494093,\n",
              "       517.45030396, 501.39742236, 509.61652676, 495.07546273,\n",
              "       500.99963308, 486.17208012, 478.79151171, 507.28162517,\n",
              "       505.42279891, 487.21575262, 499.42528255, 483.34172411,\n",
              "       503.27502542])"
            ]
          },
          "metadata": {
            "tags": []
          },
          "execution_count": 132
        }
      ]
    },
    {
      "cell_type": "markdown",
      "metadata": {
        "id": "JLt_Vvr7L6PT"
      },
      "source": [
        "#### Evalution Metrics"
      ]
    },
    {
      "cell_type": "code",
      "metadata": {
        "id": "l2hFPFEPL6PT",
        "colab": {
          "base_uri": "https://localhost:8080/"
        },
        "outputId": "ffdeac7d-a4ae-4f31-f4ff-3faaf6808968"
      },
      "source": [
        "print(\"r2 score:\",r2_score(y_test, m_prediction))\n",
        "print(\"mean squared error:\",mean_squared_error(y_test,m_prediction))\n",
        "#Our multivariate model as we can see has a terrible performance with negative r squared and a large mse."
      ],
      "execution_count": 133,
      "outputs": [
        {
          "output_type": "stream",
          "text": [
            "r2 score: -0.04604508214050784\n",
            "mean squared error: 5867.267823567396\n"
          ],
          "name": "stdout"
        }
      ]
    },
    {
      "cell_type": "markdown",
      "metadata": {
        "id": "Qme11aJOL6PU"
      },
      "source": [
        "#### Which model has better performance?"
      ]
    },
    {
      "cell_type": "markdown",
      "metadata": {
        "id": "0QeE6noeL6PU"
      },
      "source": [
        "Write your answer here: As we can see our first model has the best performance. This is due to the dependent and independent variable having the biggest correlation amongst each other. \n",
        "Model 2 and our multivariate model had extremely poor performances with negative r squared values meaning that our regression has performed worse than a horizontal line.\n",
        "\n",
        "\n",
        "\n",
        "\n",
        "\n"
      ]
    },
    {
      "cell_type": "markdown",
      "metadata": {
        "id": "L0o-jgQ0L6PU"
      },
      "source": [
        "**Describe how you interpret the coefficients of the model and based on that decide how the company shoud behave in order to try to improve their business increasing the `Yearly Amount Spent` per customenr.**"
      ]
    },
    {
      "cell_type": "markdown",
      "metadata": {
        "id": "NqMHZLVPL6PU"
      },
      "source": [
        "Write your answer here: We can conclude that our business owner should focus more on his app instead of on his website. Every hour more that the customer spent in the app would translate to a 40 increase in yearly spending. Every hour increase in website time however would only translate into a increase in 1  in yearly spending \n",
        "\n",
        "\n",
        "\n",
        "\n",
        "\n",
        "\n"
      ]
    },
    {
      "cell_type": "code",
      "metadata": {
        "id": "vM4qwl7Zqo9e"
      },
      "source": [
        ""
      ],
      "execution_count": null,
      "outputs": []
    }
  ]
}